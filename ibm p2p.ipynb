{
 "cells": [
  {
   "cell_type": "markdown",
   "metadata": {},
   "source": [
    "# HyunTae Notebook Title"
   ]
  },
  {
   "cell_type": "markdown",
   "metadata": {},
   "source": [
    "## Introduction\n",
    "\n",
    "This is notebook demonstratrates the use of Jupyterlite for data Science Projects."
   ]
  },
  {
   "cell_type": "markdown",
   "metadata": {},
   "source": [
    "## Data Science Languages\n",
    "Here is a list of commonly used languages in Data Science:\n",
    "- Python: Widely used for data analysis and machine learning.\n",
    "- R: Great for statistical analysis and visualization.\n",
    "- SQL: Essential for database management and data retrieval.\n"
   ]
  },
  {
   "cell_type": "markdown",
   "metadata": {},
   "source": [
    "## Data Science Libraries\n",
    "Below are some of the key libraries used in Data Science:\n",
    "- Pandas: Provides data structures and data analysis tools.\n",
    "- NumPy: Useful for scientific computing with Python.\n",
    "- Scikit-learn: Simple and efficient tools for data mining and data analysis.\n",
    "- TensorFlow: A framework for deep learning.\n"
   ]
  },
  {
   "cell_type": "markdown",
   "metadata": {},
   "source": [
    "## Data Science Tools\n",
    "| Tool | Description |\n",
    "|------|-------------|\n",
    "| Jupyter | Interactive notebook platform, perfect for Python, R, and Julia. |\n",
    "| Colab | Google's cloud service that allows you to write and execute Python. |\n",
    "| TensorFlow | An open-source software library for machine learning. |\n"
   ]
  },
  {
   "cell_type": "markdown",
   "metadata": {},
   "source": [
    "## Arithmetic Expressions\n",
    "Below are examples of simple arithmetic expressions:\n",
    "- Addition: `3 + 2` results in `5`\n",
    "- Subtraction: `5 - 2` results in `3`\n",
    "- Multiplication: `4 * 2` results in `8`\n",
    "- Division: `8 / 2` results in `4`\n"
   ]
  },
  {
   "cell_type": "code",
   "execution_count": 1,
   "metadata": {},
   "outputs": [
    {
     "name": "stdout",
     "output_type": "stream",
     "text": [
      "Multiplication of 5 and 3: 15\n",
      "Addition of 5 and 3: 8\n"
     ]
    }
   ],
   "source": [
    "# Multiplication\n",
    "print(\"Multiplication of 5 and 3:\", 5 * 3)\n",
    "\n",
    "# Addition\n",
    "print(\"Addition of 5 and 3:\", 5 + 3)\n"
   ]
  },
  {
   "cell_type": "code",
   "execution_count": 2,
   "metadata": {},
   "outputs": [
    {
     "name": "stdout",
     "output_type": "stream",
     "text": [
      "120 minutes is 2.0 hours.\n"
     ]
    }
   ],
   "source": [
    "# Convert minutes to hours\n",
    "minutes = 120\n",
    "hours = minutes / 60\n",
    "print(f\"{minutes} minutes is {hours} hours.\")\n"
   ]
  },
  {
   "cell_type": "markdown",
   "metadata": {},
   "source": [
    "## Objectives of This Notebook\n",
    "The main objectives of this notebook are:\n",
    "- To demonstrate how to perform basic data analysis using Python.\n",
    "- To show the integration of various data science tools within a Jupyter environment.\n",
    "- To provide hands-on examples of simple arithmetic operations.\n"
   ]
  },
  {
   "cell_type": "markdown",
   "metadata": {},
   "source": [
    "## Author\n",
    "This notebook was created by HyunTae.\n"
   ]
  }
 ],
 "metadata": {
  "kernelspec": {
   "display_name": "Python 3",
   "language": "python",
   "name": "python3"
  },
  "language_info": {
   "codemirror_mode": {
    "name": "ipython",
    "version": 3
   },
   "file_extension": ".py",
   "mimetype": "text/x-python",
   "name": "python",
   "nbconvert_exporter": "python",
   "pygments_lexer": "ipython3",
   "version": "3.7.6"
  }
 },
 "nbformat": 4,
 "nbformat_minor": 2
}
